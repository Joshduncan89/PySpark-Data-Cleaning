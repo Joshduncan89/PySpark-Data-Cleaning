{
 "cells": [
  {
   "cell_type": "markdown",
   "id": "6f1504b1",
   "metadata": {},
   "source": [
    "### Import Spark Session"
   ]
  },
  {
   "cell_type": "code",
   "execution_count": 1,
   "id": "c832f468",
   "metadata": {},
   "outputs": [
    {
     "data": {
      "text/html": [
       "\n",
       "            <div>\n",
       "                <p><b>SparkSession - in-memory</b></p>\n",
       "                \n",
       "        <div>\n",
       "            <p><b>SparkContext</b></p>\n",
       "\n",
       "            <p><a href=\"http://LAPTOP-3ELSR0G0.attlocal.net:4040\">Spark UI</a></p>\n",
       "\n",
       "            <dl>\n",
       "              <dt>Version</dt>\n",
       "                <dd><code>v3.3.0</code></dd>\n",
       "              <dt>Master</dt>\n",
       "                <dd><code>local[*]</code></dd>\n",
       "              <dt>AppName</dt>\n",
       "                <dd><code>pyspark-shell</code></dd>\n",
       "            </dl>\n",
       "        </div>\n",
       "        \n",
       "            </div>\n",
       "        "
      ],
      "text/plain": [
       "<pyspark.sql.session.SparkSession at 0x20e23e3ad60>"
      ]
     },
     "execution_count": 1,
     "metadata": {},
     "output_type": "execute_result"
    }
   ],
   "source": [
    "import findspark\n",
    "findspark.init()\n",
    "from pyspark.sql import SparkSession\n",
    "spark = SparkSession.builder.master(\"local[*]\").getOrCreate()\n",
    "spark.conf.set(\"spark.sql.repl.eagerEval.enabled\", True) # Property used to format output tables better\n",
    "spark"
   ]
  },
  {
   "cell_type": "markdown",
   "id": "149a1ace",
   "metadata": {},
   "source": [
    "### Bring In Dataset"
   ]
  },
  {
   "cell_type": "code",
   "execution_count": 2,
   "id": "9c41cabe",
   "metadata": {},
   "outputs": [
    {
     "data": {
      "text/html": [
       "<table border='1'>\n",
       "<tr><th>Brand</th><th>Model</th><th>Accel</th><th>TopSpeed</th><th>Range</th><th>Efficiency</th><th>FastCharge</th><th>RapidCharge</th><th>PowerTrain</th><th>PlugType</th><th>BodyStyle</th><th>Segment</th><th>Seats</th><th>PriceEuro</th></tr>\n",
       "<tr><td>Tesla </td><td>Model 3 Long Rang...</td><td>4.6 sec</td><td>233 km/h</td><td>450 km</td><td>161 Wh/km</td><td>940 km/h</td><td>Rapid charging po...</td><td>All Wheel Drive</td><td>Type 2 CCS</td><td>Sedan</td><td>D</td><td>5</td><td>55480</td></tr>\n",
       "<tr><td>Volkswagen </td><td>ID.3 Pure</td><td>10.0 sec</td><td>160 km/h</td><td>270 km</td><td>167 Wh/km</td><td>250 km/h</td><td>Rapid charging po...</td><td>Rear Wheel Drive</td><td>Type 2 CCS</td><td>Hatchback</td><td>C</td><td>5</td><td>30000</td></tr>\n",
       "<tr><td>Polestar </td><td>2</td><td>4.7 sec</td><td>210 km/h</td><td>400 km</td><td>181 Wh/km</td><td>620 km/h</td><td>Rapid charging po...</td><td>All Wheel Drive</td><td>Type 2 CCS</td><td>Liftback</td><td>D</td><td>5</td><td>56440</td></tr>\n",
       "<tr><td>BMW </td><td>iX3 </td><td>6.8 sec</td><td>180 km/h</td><td>360 km</td><td>206 Wh/km</td><td>560 km/h</td><td>Rapid charging po...</td><td>Rear Wheel Drive</td><td>Type 2 CCS</td><td>SUV</td><td>D</td><td>5</td><td>68040</td></tr>\n",
       "<tr><td>Honda </td><td>e </td><td>9.5 sec</td><td>145 km/h</td><td>170 km</td><td>168 Wh/km</td><td>190 km/h</td><td>Rapid charging po...</td><td>Rear Wheel Drive</td><td>Type 2 CCS</td><td>Hatchback</td><td>B</td><td>4</td><td>32997</td></tr>\n",
       "</table>\n"
      ],
      "text/plain": [
       "+-----------+--------------------+--------+--------+------+----------+----------+--------------------+----------------+----------+---------+-------+-----+---------+\n",
       "|      Brand|               Model|   Accel|TopSpeed| Range|Efficiency|FastCharge|         RapidCharge|      PowerTrain|  PlugType|BodyStyle|Segment|Seats|PriceEuro|\n",
       "+-----------+--------------------+--------+--------+------+----------+----------+--------------------+----------------+----------+---------+-------+-----+---------+\n",
       "|     Tesla |Model 3 Long Rang...| 4.6 sec|233 km/h|450 km| 161 Wh/km|  940 km/h|Rapid charging po...| All Wheel Drive|Type 2 CCS|    Sedan|      D|    5|    55480|\n",
       "|Volkswagen |           ID.3 Pure|10.0 sec|160 km/h|270 km| 167 Wh/km|  250 km/h|Rapid charging po...|Rear Wheel Drive|Type 2 CCS|Hatchback|      C|    5|    30000|\n",
       "|  Polestar |                   2| 4.7 sec|210 km/h|400 km| 181 Wh/km|  620 km/h|Rapid charging po...| All Wheel Drive|Type 2 CCS| Liftback|      D|    5|    56440|\n",
       "|       BMW |                iX3 | 6.8 sec|180 km/h|360 km| 206 Wh/km|  560 km/h|Rapid charging po...|Rear Wheel Drive|Type 2 CCS|      SUV|      D|    5|    68040|\n",
       "|     Honda |                  e | 9.5 sec|145 km/h|170 km| 168 Wh/km|  190 km/h|Rapid charging po...|Rear Wheel Drive|Type 2 CCS|Hatchback|      B|    4|    32997|\n",
       "+-----------+--------------------+--------+--------+------+----------+----------+--------------------+----------------+----------+---------+-------+-----+---------+"
      ]
     },
     "execution_count": 2,
     "metadata": {},
     "output_type": "execute_result"
    }
   ],
   "source": [
    "df = spark.read.csv('ECdata.csv',header=True,inferSchema=True)\n",
    "df.limit(5)"
   ]
  },
  {
   "cell_type": "markdown",
   "id": "8f157abc",
   "metadata": {},
   "source": [
    "### Rename Column Headers"
   ]
  },
  {
   "cell_type": "code",
   "execution_count": 3,
   "id": "7d4d073a",
   "metadata": {},
   "outputs": [],
   "source": [
    "col_names = ['Brand', 'Model','AccelSec','TopSpeed_Km','Range_Km','Efficiency_Wh/km','FastCharge_km/h','RapidCharge','PowerTrain','PlugType','Body','Segment','Seats','PriceEuro']\n",
    "df = df.toDF(*col_names)"
   ]
  },
  {
   "cell_type": "code",
   "execution_count": 4,
   "id": "d7a79d48",
   "metadata": {},
   "outputs": [
    {
     "name": "stdout",
     "output_type": "stream",
     "text": [
      "root\n",
      " |-- Brand: string (nullable = true)\n",
      " |-- Model: string (nullable = true)\n",
      " |-- AccelSec: string (nullable = true)\n",
      " |-- TopSpeed_Km: string (nullable = true)\n",
      " |-- Range_Km: string (nullable = true)\n",
      " |-- Efficiency_Wh/km: string (nullable = true)\n",
      " |-- FastCharge_km/h: string (nullable = true)\n",
      " |-- RapidCharge: string (nullable = true)\n",
      " |-- PowerTrain: string (nullable = true)\n",
      " |-- PlugType: string (nullable = true)\n",
      " |-- Body: string (nullable = true)\n",
      " |-- Segment: string (nullable = true)\n",
      " |-- Seats: integer (nullable = true)\n",
      " |-- PriceEuro: integer (nullable = true)\n",
      "\n"
     ]
    }
   ],
   "source": [
    "df.printSchema()"
   ]
  },
  {
   "cell_type": "markdown",
   "id": "de022995",
   "metadata": {},
   "source": [
    "### Import SQL functions"
   ]
  },
  {
   "cell_type": "code",
   "execution_count": 5,
   "id": "52d31465",
   "metadata": {},
   "outputs": [],
   "source": [
    "from pyspark.sql.types import IntegerType,FloatType\n",
    "from pyspark.sql.functions import col, regexp_replace, when,countDistinct"
   ]
  },
  {
   "cell_type": "markdown",
   "id": "f2a053c1",
   "metadata": {},
   "source": [
    "### Remove strings from Integer Column Types\n",
    "##### 'FastCharge' contained hyphen values representing NULL in the dataset which took me a lot longer to figure out than id like to admit. I kept getting one distinct value for 'RapidCharge'"
   ]
  },
  {
   "cell_type": "code",
   "execution_count": 14,
   "id": "d071a425",
   "metadata": {},
   "outputs": [
    {
     "name": "stdout",
     "output_type": "stream",
     "text": [
      "+-----------+--------------------+--------+-----------+--------+----------------+---------------+--------------------+-----------------+--------------+---------+-------+-----+---------+\n",
      "|      Brand|               Model|AccelSec|TopSpeed_Km|Range_Km|Efficiency_Wh/km|FastCharge_km/h|         RapidCharge|       PowerTrain|      PlugType|     Body|Segment|Seats|PriceEuro|\n",
      "+-----------+--------------------+--------+-----------+--------+----------------+---------------+--------------------+-----------------+--------------+---------+-------+-----+---------+\n",
      "|     Tesla |Model 3 Long Rang...|     4.6|        233|     450|             161|            940|Rapid charging po...|  All Wheel Drive|    Type 2 CCS|    Sedan|      D|    5|    55480|\n",
      "|Volkswagen |           ID.3 Pure|    10.0|        160|     270|             167|            250|Rapid charging po...| Rear Wheel Drive|    Type 2 CCS|Hatchback|      C|    5|    30000|\n",
      "|  Polestar |                   2|     4.7|        210|     400|             181|            620|Rapid charging po...|  All Wheel Drive|    Type 2 CCS| Liftback|      D|    5|    56440|\n",
      "|       BMW |                iX3 |     6.8|        180|     360|             206|            560|Rapid charging po...| Rear Wheel Drive|    Type 2 CCS|      SUV|      D|    5|    68040|\n",
      "|     Honda |                  e |     9.5|        145|     170|             168|            190|Rapid charging po...| Rear Wheel Drive|    Type 2 CCS|Hatchback|      B|    4|    32997|\n",
      "|     Lucid |                Air |     2.8|        250|     610|             180|            620|Rapid charging po...|  All Wheel Drive|    Type 2 CCS|    Sedan|      F|    5|   105000|\n",
      "|Volkswagen |             e-Golf |     9.6|        150|     190|             168|            220|Rapid charging po...|Front Wheel Drive|    Type 2 CCS|Hatchback|      C|    5|    31900|\n",
      "|   Peugeot |              e-208 |     8.1|        150|     275|             164|            420|Rapid charging po...|Front Wheel Drive|    Type 2 CCS|Hatchback|      B|    5|    29682|\n",
      "|     Tesla |Model 3 Standard ...|     5.6|        225|     310|             153|            650|Rapid charging po...| Rear Wheel Drive|    Type 2 CCS|    Sedan|      D|    5|    46380|\n",
      "|      Audi |          Q4 e-tron |     6.3|        180|     400|             193|            540|Rapid charging po...|  All Wheel Drive|    Type 2 CCS|      SUV|      D|    5|    55000|\n",
      "|  Mercedes |      EQC 400 4MATIC|     5.1|        180|     370|             216|            440|Rapid charging po...|  All Wheel Drive|    Type 2 CCS|      SUV|      D|    5|    69484|\n",
      "|    Nissan |               Leaf |     7.9|        144|     220|             164|            230|Rapid charging po...|Front Wheel Drive|Type 2 CHAdeMO|Hatchback|      C|    5|    29234|\n",
      "|   Hyundai |Kona Electric 64 kWh|     7.9|        167|     400|             160|            380|Rapid charging po...|Front Wheel Drive|    Type 2 CCS|      SUV|      B|    5|    40795|\n",
      "|       BMW |                 i4 |     4.0|        200|     450|             178|            650|Rapid charging po...| Rear Wheel Drive|    Type 2 CCS|    Sedan|      D|    5|    65000|\n",
      "|   Hyundai |      IONIQ Electric|     9.7|        165|     250|             153|            210|Rapid charging po...|Front Wheel Drive|    Type 2 CCS| Liftback|      C|    5|    34459|\n",
      "|Volkswagen |          ID.3 Pro S|     7.9|        160|     440|             175|            590|Rapid charging po...| Rear Wheel Drive|    Type 2 CCS|Hatchback|      C|    4|    40936|\n",
      "|   Porsche |      Taycan Turbo S|     2.8|        260|     375|             223|            780|Rapid charging po...|  All Wheel Drive|    Type 2 CCS|    Sedan|      F|    4|   180781|\n",
      "|Volkswagen |              e-Up! |    11.9|        130|     195|             166|            170|Rapid charging po...|Front Wheel Drive|    Type 2 CCS|Hatchback|      A|    4|    21421|\n",
      "|        MG |               ZS EV|     8.2|        140|     220|             193|            260|Rapid charging po...|Front Wheel Drive|    Type 2 CCS|      SUV|      B|    5|    30000|\n",
      "|      Mini |          Cooper SE |     7.3|        150|     185|             156|            260|Rapid charging po...|Front Wheel Drive|    Type 2 CCS|Hatchback|      B|    4|    31681|\n",
      "|      Opel |            Corsa-e |     8.1|        150|     275|             164|            420|Rapid charging po...|Front Wheel Drive|    Type 2 CCS|Hatchback|      B|    5|    29146|\n",
      "|     Tesla |Model Y Long Rang...|     5.1|        217|     425|             171|            930|Rapid charging po...|  All Wheel Drive|    Type 2 CCS|      SUV|      D|    7|    58620|\n",
      "|     Skoda |         Enyaq iV 50|    10.0|        160|     290|             179|            230|Rapid charging po...| Rear Wheel Drive|    Type 2 CCS|      SUV|      C|    5|    35000|\n",
      "|      Audi |          e-tron GT |     3.5|        240|     425|             197|            850|Rapid charging po...|  All Wheel Drive|    Type 2 CCS|    Sedan|      F|    4|   125000|\n",
      "|     Tesla |Model 3 Long Rang...|     3.4|        261|     435|             167|            910|Rapid charging po...|  All Wheel Drive|    Type 2 CCS|    Sedan|      D|    5|    61480|\n",
      "|Volkswagen |               ID.4 |     7.5|        160|     420|             183|            560|Rapid charging po...| Rear Wheel Drive|    Type 2 CCS|      SUV|      C|    5|    45000|\n",
      "|Volkswagen |            ID.3 Pro|     9.0|        160|     350|             166|            490|Rapid charging po...| Rear Wheel Drive|    Type 2 CCS|Hatchback|      C|    5|    33000|\n",
      "|     Volvo |XC40 P8 AWD Recharge|     4.9|        180|     375|             200|            470|Rapid charging po...|  All Wheel Drive|    Type 2 CCS|      SUV|      C|    5|    60437|\n",
      "|       BMW |           i3 120 Ah|     7.3|        150|     235|             161|            270|Rapid charging po...| Rear Wheel Drive|    Type 2 CCS|Hatchback|      B|    4|    38017|\n",
      "|   Peugeot |         e-2008 SUV |     8.5|        150|     250|             180|            380|Rapid charging po...|Front Wheel Drive|    Type 2 CCS|      SUV|      B|    5|    34361|\n",
      "|      Audi |   e-tron 50 quattro|     6.8|        190|     280|             231|            450|Rapid charging po...|  All Wheel Drive|    Type 2 CCS|      SUV|      E|    5|    67358|\n",
      "|       Kia |       e-Niro 64 kWh|     7.8|        167|     370|             173|            350|Rapid charging po...|Front Wheel Drive|    Type 2 CCS|      SUV|      C|    5|    38105|\n",
      "|   Renault |       Zoe ZE50 R110|    11.4|        135|     315|             165|            230|Rapid charging po...|Front Wheel Drive|    Type 2 CCS|Hatchback|      B|    5|    31184|\n",
      "|     Tesla |Cybertruck Tri Motor|     3.0|        210|     750|             267|            710|Rapid charging po...|  All Wheel Drive|    Type 2 CCS|   Pickup|      N|    6|    75000|\n",
      "|     Mazda |              MX-30 |     9.0|        150|     180|             178|            240|Rapid charging po...|Front Wheel Drive|    Type 2 CCS|      SUV|      C|    5|    32646|\n",
      "|    Nissan |             Leaf e+|     7.3|        157|     325|             172|            390|Rapid charging po...|Front Wheel Drive|Type 2 CHAdeMO|Hatchback|      C|    5|    37237|\n",
      "|     Lexus |             UX 300e|     7.5|        160|     270|             193|            190|Rapid charging po...|Front Wheel Drive|Type 2 CHAdeMO|      SUV|      C|    5|    50000|\n",
      "|     CUPRA |            el-Born |     6.5|        160|     425|             181|            570|Rapid charging po...| Rear Wheel Drive|    Type 2 CCS|Hatchback|      C|    4|    45000|\n",
      "|   Renault |       Zoe ZE50 R135|     9.5|        140|     310|             168|            230|Rapid charging po...|Front Wheel Drive|    Type 2 CCS|Hatchback|      B|    5|    33133|\n",
      "|  Mercedes |                EQA |     5.0|        200|     350|             171|            440|Rapid charging po...|  All Wheel Drive|    Type 2 CCS|      SUV|      C|    5|    45000|\n",
      "|     Tesla |  Model S Long Range|     3.8|        250|     515|             184|            560|Rapid charging po...|  All Wheel Drive|        Type 2| Liftback|      F|    5|    79990|\n",
      "|   Hyundai |Kona Electric 39 kWh|     9.9|        155|     255|             154|            210|Rapid charging po...|Front Wheel Drive|    Type 2 CCS|      SUV|      B|    5|    33971|\n",
      "|      Audi |e-tron Sportback ...|     5.7|        200|     380|             228|            610|Rapid charging po...|  All Wheel Drive|    Type 2 CCS|      SUV|      E|    5|    81639|\n",
      "|     Skoda |         CITIGOe iV |    12.3|        130|     195|             166|            170|Rapid charging po...|Front Wheel Drive|    Type 2 CCS|Hatchback|      A|    4|    24534|\n",
      "|      SEAT |       Mii Electric |    12.3|        130|     195|             166|            170|Rapid charging po...|Front Wheel Drive|    Type 2 CCS|Hatchback|      A|    4|    20129|\n",
      "|       Kia |       e-Soul 64 kWh|     7.9|        167|     365|             175|            340|Rapid charging po...|Front Wheel Drive|    Type 2 CCS|      SUV|      B|    5|    36837|\n",
      "|      Opel |           Ampera-e |     7.3|        150|     335|             173|            210|Rapid charging po...|Front Wheel Drive|    Type 2 CCS|      MPV|      B|    5|    41906|\n",
      "|   Porsche |           Taycan 4S|     4.0|        250|     365|             195|            730|Rapid charging po...|  All Wheel Drive|    Type 2 CCS|    Sedan|      F|    4|   102945|\n",
      "| Lightyear |                One |    10.0|        150|     575|             104|            540|Rapid charging po...|  All Wheel Drive|    Type 2 CCS| Liftback|      F|    5|   149000|\n",
      "|    Aiways |                 U5 |     9.0|        150|     335|             188|            350|Rapid charging po...|Front Wheel Drive|    Type 2 CCS|      SUV|      C|    5|    36057|\n",
      "|      Audi |   e-tron 55 quattro|     5.7|        200|     365|             237|            590|Rapid charging po...|  All Wheel Drive|    Type 2 CCS|      SUV|      E|    5|    79445|\n",
      "|     Tesla |           Roadster |     2.1|        410|     970|             206|            920|Rapid charging po...|  All Wheel Drive|    Type 2 CCS|   Cabrio|      S|    4|   215000|\n",
      "|      Opel |            Mokka-e |     8.5|        150|     255|             176|            390|Rapid charging po...|Front Wheel Drive|    Type 2 CCS|      SUV|      B|    5|    35000|\n",
      "|     Skoda |         Enyaq iV 80|     8.8|        160|     420|             183|            560|Rapid charging po...| Rear Wheel Drive|    Type 2 CCS|      SUV|      C|    5|    40000|\n",
      "|     Tesla |  Model X Long Range|     4.6|        250|     450|             211|            490|Rapid charging po...|  All Wheel Drive|        Type 2|      SUV|      F|    7|    85990|\n",
      "|     Honda |           e Advance|     8.3|        145|     170|             168|            190|Rapid charging po...| Rear Wheel Drive|    Type 2 CCS|Hatchback|      B|    4|    35921|\n",
      "|        DS | 3 Crossback E-Tense|     8.7|        150|     250|             180|            380|Rapid charging po...|Front Wheel Drive|    Type 2 CCS|      SUV|      B|    5|    37422|\n",
      "|   Renault |           Twingo ZE|    12.6|        135|     130|             164|           null|Rapid charging no...| Rear Wheel Drive|        Type 2|Hatchback|      A|    4|    24790|\n",
      "|   Citroen |               e-C4 |     9.7|        150|     250|             180|            380|Rapid charging po...|Front Wheel Drive|    Type 2 CCS|      SUV|      C|    5|    40000|\n",
      "|     Tesla | Model S Performance|     2.5|        261|     505|             188|            550|Rapid charging po...|  All Wheel Drive|        Type 2| Liftback|      F|    5|    96990|\n",
      "+-----------+--------------------+--------+-----------+--------+----------------+---------------+--------------------+-----------------+--------------+---------+-------+-----+---------+\n",
      "only showing top 60 rows\n",
      "\n"
     ]
    }
   ],
   "source": [
    "df = df.withColumn(\"AccelSec\",regexp_replace(col(\"AccelSec\"),\"[^0-9.]\",\"\"))\\\n",
    "    .withColumn(\"TopSpeed_Km\",regexp_replace(col(\"TopSpeed_Km\"),\"[^0-9.]\",\"\"))\\\n",
    "    .withColumn(\"Range_Km\",regexp_replace(col(\"Range_Km\"),\"[^0-9.]\",\"\"))\\\n",
    "    .withColumn(\"Efficiency_Wh/km\",regexp_replace(col(\"Efficiency_Wh/km\"),\"[^0-9.]\",\"\"))\\\n",
    "    .withColumn(\"FastCharge_km/h\",regexp_replace(col(\"FastCharge_km/h\"),\"[^\\d.]\",\"\"))\n",
    "\n",
    "df.withColumn(\"FastCharge_km/h\", \\\n",
    "       when(col(\"FastCharge_km/h\")==\"\" ,None) \\\n",
    "          .otherwise(col(\"FastCharge_km/h\"))) \\\n",
    "  .show(60)"
   ]
  },
  {
   "cell_type": "markdown",
   "id": "5ae2b286",
   "metadata": {},
   "source": [
    "### Alter Table Columns"
   ]
  },
  {
   "cell_type": "code",
   "execution_count": 7,
   "id": "27933741",
   "metadata": {},
   "outputs": [
    {
     "name": "stdout",
     "output_type": "stream",
     "text": [
      "root\n",
      " |-- Brand: string (nullable = true)\n",
      " |-- Model: string (nullable = true)\n",
      " |-- AccelSec: float (nullable = true)\n",
      " |-- TopSpeed_Km: integer (nullable = true)\n",
      " |-- Range_Km: integer (nullable = true)\n",
      " |-- Efficiency_Wh/km: integer (nullable = true)\n",
      " |-- FastCharge_km/h: integer (nullable = true)\n",
      " |-- RapidCharge: string (nullable = true)\n",
      " |-- PowerTrain: string (nullable = true)\n",
      " |-- PlugType: string (nullable = true)\n",
      " |-- Body: string (nullable = true)\n",
      " |-- Segment: string (nullable = true)\n",
      " |-- Seats: integer (nullable = true)\n",
      " |-- PriceEuro: integer (nullable = true)\n",
      "\n"
     ]
    }
   ],
   "source": [
    "df = df.withColumn(\"AccelSec\",col(\"AccelSec\").cast(FloatType()))\\\n",
    "    .withColumn(\"TopSpeed_Km\",col(\"TopSpeed_Km\").cast(IntegerType()))\\\n",
    "    .withColumn(\"Range_Km\",col(\"Range_Km\").cast(IntegerType()))\\\n",
    "    .withColumn(\"Efficiency_Wh/km\",col(\"Efficiency_Wh/km\").cast(IntegerType()))\\\n",
    "    .withColumn(\"FastCharge_km/h\",col(\"FastCharge_km/h\").cast(IntegerType()))\\\n",
    "    .withColumn(\"Seats\",col(\"Seats\").cast(IntegerType()))\\\n",
    "    .withColumn(\"PriceEuro\",col(\"PriceEuro\").cast(IntegerType()))\n",
    "\n",
    "df.printSchema()"
   ]
  },
  {
   "cell_type": "markdown",
   "id": "998d1b55",
   "metadata": {},
   "source": [
    "### Validate Column"
   ]
  },
  {
   "cell_type": "code",
   "execution_count": 15,
   "id": "032c9438",
   "metadata": {},
   "outputs": [
    {
     "name": "stdout",
     "output_type": "stream",
     "text": [
      "+-----------+\n",
      "|RapidCharge|\n",
      "+-----------+\n",
      "|         No|\n",
      "|        Yes|\n",
      "+-----------+\n",
      "\n"
     ]
    }
   ],
   "source": [
    "df = df.withColumn('RapidCharge',when(col('RapidCharge').like('%not%'),'No').otherwise('Yes'))\n",
    "\n",
    "df.select('RapidCharge').distinct().show()"
   ]
  },
  {
   "cell_type": "markdown",
   "id": "0bc38395",
   "metadata": {},
   "source": [
    "### Group By Brand to find ordered list from most expensive"
   ]
  },
  {
   "cell_type": "code",
   "execution_count": 18,
   "id": "eb54e7ea",
   "metadata": {},
   "outputs": [],
   "source": [
    "from pyspark.sql.functions import avg,round,ceil,udf"
   ]
  },
  {
   "cell_type": "code",
   "execution_count": 19,
   "id": "9dca0158",
   "metadata": {},
   "outputs": [
    {
     "name": "stdout",
     "output_type": "stream",
     "text": [
      "+----------+--------+\n",
      "|     Brand|AvgPrice|\n",
      "+----------+--------+\n",
      "|Lightyear |  149000|\n",
      "|  Porsche |  138266|\n",
      "|    Lucid |  105000|\n",
      "|     Audi |   80594|\n",
      "|    Tesla |   80273|\n",
      "|   Jaguar |   75351|\n",
      "| Mercedes |   61705|\n",
      "|    Volvo |   60437|\n",
      "|    Byton |   59834|\n",
      "| Polestar |   56440|\n",
      "|     Ford |   54569|\n",
      "|      BMW |   53146|\n",
      "|    Lexus |   50000|\n",
      "|   Nissan |   45903|\n",
      "|    CUPRA |   45000|\n",
      "|  Citroen |   40000|\n",
      "|    Skoda |   38256|\n",
      "|       DS |   37422|\n",
      "|  Hyundai |   36409|\n",
      "|     Fiat |   36400|\n",
      "+----------+--------+\n",
      "only showing top 20 rows\n",
      "\n"
     ]
    }
   ],
   "source": [
    "df.groupBy('Brand').agg(ceil(avg('PriceEuro')).alias('AvgPrice')).orderBy('AvgPrice',ascending=False).show()"
   ]
  },
  {
   "cell_type": "markdown",
   "id": "e322ed22",
   "metadata": {},
   "source": [
    "### Add Column for Price in USD by Converting Euro"
   ]
  },
  {
   "cell_type": "code",
   "execution_count": 23,
   "id": "4bae46b4",
   "metadata": {},
   "outputs": [],
   "source": [
    "def currency_convert(x):\n",
    "    return int(x * .97)\n",
    "  #Sept 2022 (1 euro = .97 usd)\n",
    "\n",
    "currency_convert_udf = udf(currency_convert, IntegerType())\n",
    "\n",
    "df = df.withColumn('PriceUSD',currency_convert_udf('PriceEuro').alias('PriceUSD'))"
   ]
  },
  {
   "cell_type": "code",
   "execution_count": 24,
   "id": "e62f5848",
   "metadata": {},
   "outputs": [
    {
     "data": {
      "text/html": [
       "<table border='1'>\n",
       "<tr><th>Brand</th><th>Model</th><th>AccelSec</th><th>TopSpeed_Km</th><th>Range_Km</th><th>Efficiency_Wh/km</th><th>FastCharge_km/h</th><th>RapidCharge</th><th>PowerTrain</th><th>PlugType</th><th>Body</th><th>Segment</th><th>Seats</th><th>PriceEuro</th><th>PriceUSD</th></tr>\n",
       "<tr><td>Tesla </td><td>Model 3 Long Rang...</td><td>4.6</td><td>233</td><td>450</td><td>161</td><td>940</td><td>Yes</td><td>All Wheel Drive</td><td>Type 2 CCS</td><td>Sedan</td><td>D</td><td>5</td><td>55480</td><td>53815</td></tr>\n",
       "<tr><td>Volkswagen </td><td>ID.3 Pure</td><td>10.0</td><td>160</td><td>270</td><td>167</td><td>250</td><td>Yes</td><td>Rear Wheel Drive</td><td>Type 2 CCS</td><td>Hatchback</td><td>C</td><td>5</td><td>30000</td><td>29100</td></tr>\n",
       "<tr><td>Polestar </td><td>2</td><td>4.7</td><td>210</td><td>400</td><td>181</td><td>620</td><td>Yes</td><td>All Wheel Drive</td><td>Type 2 CCS</td><td>Liftback</td><td>D</td><td>5</td><td>56440</td><td>54746</td></tr>\n",
       "<tr><td>BMW </td><td>iX3 </td><td>6.8</td><td>180</td><td>360</td><td>206</td><td>560</td><td>Yes</td><td>Rear Wheel Drive</td><td>Type 2 CCS</td><td>SUV</td><td>D</td><td>5</td><td>68040</td><td>65998</td></tr>\n",
       "<tr><td>Honda </td><td>e </td><td>9.5</td><td>145</td><td>170</td><td>168</td><td>190</td><td>Yes</td><td>Rear Wheel Drive</td><td>Type 2 CCS</td><td>Hatchback</td><td>B</td><td>4</td><td>32997</td><td>32007</td></tr>\n",
       "</table>\n"
      ],
      "text/plain": [
       "+-----------+--------------------+--------+-----------+--------+----------------+---------------+-----------+----------------+----------+---------+-------+-----+---------+--------+\n",
       "|      Brand|               Model|AccelSec|TopSpeed_Km|Range_Km|Efficiency_Wh/km|FastCharge_km/h|RapidCharge|      PowerTrain|  PlugType|     Body|Segment|Seats|PriceEuro|PriceUSD|\n",
       "+-----------+--------------------+--------+-----------+--------+----------------+---------------+-----------+----------------+----------+---------+-------+-----+---------+--------+\n",
       "|     Tesla |Model 3 Long Rang...|     4.6|        233|     450|             161|            940|        Yes| All Wheel Drive|Type 2 CCS|    Sedan|      D|    5|    55480|   53815|\n",
       "|Volkswagen |           ID.3 Pure|    10.0|        160|     270|             167|            250|        Yes|Rear Wheel Drive|Type 2 CCS|Hatchback|      C|    5|    30000|   29100|\n",
       "|  Polestar |                   2|     4.7|        210|     400|             181|            620|        Yes| All Wheel Drive|Type 2 CCS| Liftback|      D|    5|    56440|   54746|\n",
       "|       BMW |                iX3 |     6.8|        180|     360|             206|            560|        Yes|Rear Wheel Drive|Type 2 CCS|      SUV|      D|    5|    68040|   65998|\n",
       "|     Honda |                  e |     9.5|        145|     170|             168|            190|        Yes|Rear Wheel Drive|Type 2 CCS|Hatchback|      B|    4|    32997|   32007|\n",
       "+-----------+--------------------+--------+-----------+--------+----------------+---------------+-----------+----------------+----------+---------+-------+-----+---------+--------+"
      ]
     },
     "execution_count": 24,
     "metadata": {},
     "output_type": "execute_result"
    }
   ],
   "source": [
    "df.limit(5)"
   ]
  },
  {
   "cell_type": "code",
   "execution_count": null,
   "id": "690d0c79",
   "metadata": {},
   "outputs": [],
   "source": []
  }
 ],
 "metadata": {
  "kernelspec": {
   "display_name": "Python 3 (ipykernel)",
   "language": "python",
   "name": "python3"
  },
  "language_info": {
   "codemirror_mode": {
    "name": "ipython",
    "version": 3
   },
   "file_extension": ".py",
   "mimetype": "text/x-python",
   "name": "python",
   "nbconvert_exporter": "python",
   "pygments_lexer": "ipython3",
   "version": "3.9.12"
  }
 },
 "nbformat": 4,
 "nbformat_minor": 5
}
