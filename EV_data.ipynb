{
 "cells": [
  {
   "cell_type": "markdown",
   "id": "f5dbb010",
   "metadata": {},
   "source": [
    "### Import Spark Session"
   ]
  },
  {
   "cell_type": "code",
   "execution_count": 1,
   "id": "5e52af8e",
   "metadata": {},
   "outputs": [
    {
     "data": {
      "text/html": [
       "\n",
       "            <div>\n",
       "                <p><b>SparkSession - in-memory</b></p>\n",
       "                \n",
       "        <div>\n",
       "            <p><b>SparkContext</b></p>\n",
       "\n",
       "            <p><a href=\"http://LAPTOP-3ELSR0G0.attlocal.net:4040\">Spark UI</a></p>\n",
       "\n",
       "            <dl>\n",
       "              <dt>Version</dt>\n",
       "                <dd><code>v3.3.0</code></dd>\n",
       "              <dt>Master</dt>\n",
       "                <dd><code>local[*]</code></dd>\n",
       "              <dt>AppName</dt>\n",
       "                <dd><code>pyspark-shell</code></dd>\n",
       "            </dl>\n",
       "        </div>\n",
       "        \n",
       "            </div>\n",
       "        "
      ],
      "text/plain": [
       "<pyspark.sql.session.SparkSession at 0x1fa04a1cd60>"
      ]
     },
     "execution_count": 1,
     "metadata": {},
     "output_type": "execute_result"
    }
   ],
   "source": [
    "import findspark\n",
    "findspark.init()\n",
    "from pyspark.sql import SparkSession\n",
    "spark = SparkSession.builder.master(\"local[*]\").getOrCreate()\n",
    "spark.conf.set(\"spark.sql.repl.eagerEval.enabled\", True) # Property used to format output tables better\n",
    "spark"
   ]
  },
  {
   "cell_type": "markdown",
   "id": "1f65032b",
   "metadata": {},
   "source": [
    "### Bring In Dataset"
   ]
  },
  {
   "cell_type": "code",
   "execution_count": 2,
   "id": "18ee2792",
   "metadata": {},
   "outputs": [
    {
     "data": {
      "text/html": [
       "<table border='1'>\n",
       "<tr><th>Brand</th><th>Model</th><th>Accel</th><th>TopSpeed</th><th>Range</th><th>Efficiency</th><th>FastCharge</th><th>RapidCharge</th><th>PowerTrain</th><th>PlugType</th><th>BodyStyle</th><th>Segment</th><th>Seats</th><th>PriceEuro</th></tr>\n",
       "<tr><td>Tesla </td><td>Model 3 Long Rang...</td><td>4.6 sec</td><td>233 km/h</td><td>450 km</td><td>161 Wh/km</td><td>940 km/h</td><td>Rapid charging po...</td><td>All Wheel Drive</td><td>Type 2 CCS</td><td>Sedan</td><td>D</td><td>5</td><td>55480</td></tr>\n",
       "<tr><td>Volkswagen </td><td>ID.3 Pure</td><td>10.0 sec</td><td>160 km/h</td><td>270 km</td><td>167 Wh/km</td><td>250 km/h</td><td>Rapid charging po...</td><td>Rear Wheel Drive</td><td>Type 2 CCS</td><td>Hatchback</td><td>C</td><td>5</td><td>30000</td></tr>\n",
       "<tr><td>Polestar </td><td>2</td><td>4.7 sec</td><td>210 km/h</td><td>400 km</td><td>181 Wh/km</td><td>620 km/h</td><td>Rapid charging po...</td><td>All Wheel Drive</td><td>Type 2 CCS</td><td>Liftback</td><td>D</td><td>5</td><td>56440</td></tr>\n",
       "<tr><td>BMW </td><td>iX3 </td><td>6.8 sec</td><td>180 km/h</td><td>360 km</td><td>206 Wh/km</td><td>560 km/h</td><td>Rapid charging po...</td><td>Rear Wheel Drive</td><td>Type 2 CCS</td><td>SUV</td><td>D</td><td>5</td><td>68040</td></tr>\n",
       "<tr><td>Honda </td><td>e </td><td>9.5 sec</td><td>145 km/h</td><td>170 km</td><td>168 Wh/km</td><td>190 km/h</td><td>Rapid charging po...</td><td>Rear Wheel Drive</td><td>Type 2 CCS</td><td>Hatchback</td><td>B</td><td>4</td><td>32997</td></tr>\n",
       "</table>\n"
      ],
      "text/plain": [
       "+-----------+--------------------+--------+--------+------+----------+----------+--------------------+----------------+----------+---------+-------+-----+---------+\n",
       "|      Brand|               Model|   Accel|TopSpeed| Range|Efficiency|FastCharge|         RapidCharge|      PowerTrain|  PlugType|BodyStyle|Segment|Seats|PriceEuro|\n",
       "+-----------+--------------------+--------+--------+------+----------+----------+--------------------+----------------+----------+---------+-------+-----+---------+\n",
       "|     Tesla |Model 3 Long Rang...| 4.6 sec|233 km/h|450 km| 161 Wh/km|  940 km/h|Rapid charging po...| All Wheel Drive|Type 2 CCS|    Sedan|      D|    5|    55480|\n",
       "|Volkswagen |           ID.3 Pure|10.0 sec|160 km/h|270 km| 167 Wh/km|  250 km/h|Rapid charging po...|Rear Wheel Drive|Type 2 CCS|Hatchback|      C|    5|    30000|\n",
       "|  Polestar |                   2| 4.7 sec|210 km/h|400 km| 181 Wh/km|  620 km/h|Rapid charging po...| All Wheel Drive|Type 2 CCS| Liftback|      D|    5|    56440|\n",
       "|       BMW |                iX3 | 6.8 sec|180 km/h|360 km| 206 Wh/km|  560 km/h|Rapid charging po...|Rear Wheel Drive|Type 2 CCS|      SUV|      D|    5|    68040|\n",
       "|     Honda |                  e | 9.5 sec|145 km/h|170 km| 168 Wh/km|  190 km/h|Rapid charging po...|Rear Wheel Drive|Type 2 CCS|Hatchback|      B|    4|    32997|\n",
       "+-----------+--------------------+--------+--------+------+----------+----------+--------------------+----------------+----------+---------+-------+-----+---------+"
      ]
     },
     "execution_count": 2,
     "metadata": {},
     "output_type": "execute_result"
    }
   ],
   "source": [
    "df = spark.read.csv('ECdata.csv',header=True,inferSchema=True)\n",
    "df.limit(5)"
   ]
  },
  {
   "cell_type": "markdown",
   "id": "c8764198",
   "metadata": {},
   "source": [
    "### Rename Column Headers"
   ]
  },
  {
   "cell_type": "code",
   "execution_count": 3,
   "id": "1ef2d266",
   "metadata": {},
   "outputs": [],
   "source": [
    "col_names = ['Brand', 'Model','AccelSec','TopSpeed_Km','Range_Km','Efficiency_Wh/km','FastCharge_km/h','RapidCharge','PowerTrain','PlugType','Body','Segment','Seats','PriceEuro']\n",
    "df = df.toDF(*col_names)"
   ]
  },
  {
   "cell_type": "code",
   "execution_count": 4,
   "id": "a6bcd3d3",
   "metadata": {},
   "outputs": [
    {
     "name": "stdout",
     "output_type": "stream",
     "text": [
      "root\n",
      " |-- Brand: string (nullable = true)\n",
      " |-- Model: string (nullable = true)\n",
      " |-- AccelSec: string (nullable = true)\n",
      " |-- TopSpeed_Km: string (nullable = true)\n",
      " |-- Range_Km: string (nullable = true)\n",
      " |-- Efficiency_Wh/km: string (nullable = true)\n",
      " |-- FastCharge_km/h: string (nullable = true)\n",
      " |-- RapidCharge: string (nullable = true)\n",
      " |-- PowerTrain: string (nullable = true)\n",
      " |-- PlugType: string (nullable = true)\n",
      " |-- Body: string (nullable = true)\n",
      " |-- Segment: string (nullable = true)\n",
      " |-- Seats: integer (nullable = true)\n",
      " |-- PriceEuro: integer (nullable = true)\n",
      "\n"
     ]
    }
   ],
   "source": [
    "df.printSchema()"
   ]
  },
  {
   "cell_type": "markdown",
   "id": "4283ad9f",
   "metadata": {},
   "source": [
    "### Import SQL functions"
   ]
  },
  {
   "cell_type": "code",
   "execution_count": 6,
   "id": "0fe37831",
   "metadata": {},
   "outputs": [],
   "source": [
    "from pyspark.sql.types import IntegerType,FloatType\n",
    "from pyspark.sql.functions import col, regexp_replace, when,countDistinct"
   ]
  },
  {
   "cell_type": "markdown",
   "id": "901fcb3f",
   "metadata": {},
   "source": [
    "### Remove strings from Integer Column Types\n",
    "##### 'FastCharge' contained hyphen values representing NULL and ruined 2 hours of my time trying to figure out why I was only getting one distinct value for 'RapidCharge'. Youll notice the regex pattern contains hyphen."
   ]
  },
  {
   "cell_type": "code",
   "execution_count": 7,
   "id": "de81b6e0",
   "metadata": {},
   "outputs": [
    {
     "data": {
      "text/html": [
       "<table border='1'>\n",
       "<tr><th>Brand</th><th>Model</th><th>AccelSec</th><th>TopSpeed_Km</th><th>Range_Km</th><th>Efficiency_Wh/km</th><th>FastCharge_km/h</th><th>RapidCharge</th><th>PowerTrain</th><th>PlugType</th><th>Body</th><th>Segment</th><th>Seats</th><th>PriceEuro</th></tr>\n",
       "<tr><td>Tesla </td><td>Model 3 Long Rang...</td><td>4.6</td><td>233</td><td>450</td><td>161</td><td>940 km/h</td><td>Rapid charging po...</td><td>All Wheel Drive</td><td>Type 2 CCS</td><td>Sedan</td><td>D</td><td>5</td><td>55480</td></tr>\n",
       "<tr><td>Volkswagen </td><td>ID.3 Pure</td><td>10.0</td><td>160</td><td>270</td><td>167</td><td>250 km/h</td><td>Rapid charging po...</td><td>Rear Wheel Drive</td><td>Type 2 CCS</td><td>Hatchback</td><td>C</td><td>5</td><td>30000</td></tr>\n",
       "<tr><td>Polestar </td><td>2</td><td>4.7</td><td>210</td><td>400</td><td>181</td><td>620 km/h</td><td>Rapid charging po...</td><td>All Wheel Drive</td><td>Type 2 CCS</td><td>Liftback</td><td>D</td><td>5</td><td>56440</td></tr>\n",
       "<tr><td>BMW </td><td>iX3 </td><td>6.8</td><td>180</td><td>360</td><td>206</td><td>560 km/h</td><td>Rapid charging po...</td><td>Rear Wheel Drive</td><td>Type 2 CCS</td><td>SUV</td><td>D</td><td>5</td><td>68040</td></tr>\n",
       "<tr><td>Honda </td><td>e </td><td>9.5</td><td>145</td><td>170</td><td>168</td><td>190 km/h</td><td>Rapid charging po...</td><td>Rear Wheel Drive</td><td>Type 2 CCS</td><td>Hatchback</td><td>B</td><td>4</td><td>32997</td></tr>\n",
       "</table>\n"
      ],
      "text/plain": [
       "+-----------+--------------------+--------+-----------+--------+----------------+---------------+--------------------+----------------+----------+---------+-------+-----+---------+\n",
       "|      Brand|               Model|AccelSec|TopSpeed_Km|Range_Km|Efficiency_Wh/km|FastCharge_km/h|         RapidCharge|      PowerTrain|  PlugType|     Body|Segment|Seats|PriceEuro|\n",
       "+-----------+--------------------+--------+-----------+--------+----------------+---------------+--------------------+----------------+----------+---------+-------+-----+---------+\n",
       "|     Tesla |Model 3 Long Rang...|     4.6|        233|     450|             161|       940 km/h|Rapid charging po...| All Wheel Drive|Type 2 CCS|    Sedan|      D|    5|    55480|\n",
       "|Volkswagen |           ID.3 Pure|    10.0|        160|     270|             167|       250 km/h|Rapid charging po...|Rear Wheel Drive|Type 2 CCS|Hatchback|      C|    5|    30000|\n",
       "|  Polestar |                   2|     4.7|        210|     400|             181|       620 km/h|Rapid charging po...| All Wheel Drive|Type 2 CCS| Liftback|      D|    5|    56440|\n",
       "|       BMW |                iX3 |     6.8|        180|     360|             206|       560 km/h|Rapid charging po...|Rear Wheel Drive|Type 2 CCS|      SUV|      D|    5|    68040|\n",
       "|     Honda |                  e |     9.5|        145|     170|             168|       190 km/h|Rapid charging po...|Rear Wheel Drive|Type 2 CCS|Hatchback|      B|    4|    32997|\n",
       "+-----------+--------------------+--------+-----------+--------+----------------+---------------+--------------------+----------------+----------+---------+-------+-----+---------+"
      ]
     },
     "execution_count": 7,
     "metadata": {},
     "output_type": "execute_result"
    }
   ],
   "source": [
    "df = df.withColumn(\"AccelSec\",regexp_replace(col(\"AccelSec\"),\"[^0-9.]\",\"\"))\\\n",
    "    .withColumn(\"TopSpeed_Km\",regexp_replace(col(\"TopSpeed_Km\"),\"[^0-9.]\",\"\"))\\\n",
    "    .withColumn(\"Range_Km\",regexp_replace(col(\"Range_Km\"),\"[^0-9.]\",\"\"))\\\n",
    "    .withColumn(\"Efficiency_Wh/km\",regexp_replace(col(\"Efficiency_Wh/km\"),\"[^0-9.]\",\"\"))\\\n",
    "    .withColumn(\"FastCharge_km/h\",regexp_replace(col(\"FastCharge_km/h\"),\"/[^\\d-]/g\",\"\"))\n",
    "\n",
    "df.limit(5)"
   ]
  },
  {
   "cell_type": "markdown",
   "id": "0bf14c1d",
   "metadata": {},
   "source": [
    "### Alter Table Columns"
   ]
  },
  {
   "cell_type": "code",
   "execution_count": 8,
   "id": "fa2960d6",
   "metadata": {},
   "outputs": [
    {
     "name": "stdout",
     "output_type": "stream",
     "text": [
      "root\n",
      " |-- Brand: string (nullable = true)\n",
      " |-- Model: string (nullable = true)\n",
      " |-- AccelSec: float (nullable = true)\n",
      " |-- TopSpeed_Km: integer (nullable = true)\n",
      " |-- Range_Km: integer (nullable = true)\n",
      " |-- Efficiency_Wh/km: integer (nullable = true)\n",
      " |-- FastCharge_km/h: integer (nullable = true)\n",
      " |-- RapidCharge: string (nullable = true)\n",
      " |-- PowerTrain: string (nullable = true)\n",
      " |-- PlugType: string (nullable = true)\n",
      " |-- Body: string (nullable = true)\n",
      " |-- Segment: string (nullable = true)\n",
      " |-- Seats: integer (nullable = true)\n",
      " |-- PriceEuro: integer (nullable = true)\n",
      "\n"
     ]
    }
   ],
   "source": [
    "df = df.withColumn(\"AccelSec\",col(\"AccelSec\").cast(FloatType()))\\\n",
    "    .withColumn(\"TopSpeed_Km\",col(\"TopSpeed_Km\").cast(IntegerType()))\\\n",
    "    .withColumn(\"Range_Km\",col(\"Range_Km\").cast(IntegerType()))\\\n",
    "    .withColumn(\"Efficiency_Wh/km\",col(\"Efficiency_Wh/km\").cast(IntegerType()))\\\n",
    "    .withColumn(\"FastCharge_km/h\",col(\"FastCharge_km/h\").cast(IntegerType()))\\\n",
    "    .withColumn(\"Seats\",col(\"Seats\").cast(IntegerType()))\\\n",
    "    .withColumn(\"PriceEuro\",col(\"PriceEuro\").cast(IntegerType()))\n",
    "\n",
    "df.printSchema()"
   ]
  },
  {
   "cell_type": "markdown",
   "id": "b9eea5d3",
   "metadata": {},
   "source": [
    "### Validate Column"
   ]
  },
  {
   "cell_type": "code",
   "execution_count": 9,
   "id": "7e5d12f7",
   "metadata": {},
   "outputs": [
    {
     "data": {
      "text/html": [
       "<table border='1'>\n",
       "<tr><th>count(DISTINCT RapidCharge)</th></tr>\n",
       "<tr><td>2</td></tr>\n",
       "</table>\n"
      ],
      "text/plain": [
       "+---------------------------+\n",
       "|count(DISTINCT RapidCharge)|\n",
       "+---------------------------+\n",
       "|                          2|\n",
       "+---------------------------+"
      ]
     },
     "execution_count": 9,
     "metadata": {},
     "output_type": "execute_result"
    }
   ],
   "source": [
    "df = df.withColumn('RapidCharge',when(col('RapidCharge').like('%not%'),'No').otherwise('Yes'))\n",
    "df.select(countDistinct('RapidCharge'))"
   ]
  },
  {
   "cell_type": "code",
   "execution_count": null,
   "id": "7cc68395",
   "metadata": {},
   "outputs": [],
   "source": []
  }
 ],
 "metadata": {
  "kernelspec": {
   "display_name": "Python 3 (ipykernel)",
   "language": "python",
   "name": "python3"
  },
  "language_info": {
   "codemirror_mode": {
    "name": "ipython",
    "version": 3
   },
   "file_extension": ".py",
   "mimetype": "text/x-python",
   "name": "python",
   "nbconvert_exporter": "python",
   "pygments_lexer": "ipython3",
   "version": "3.9.12"
  }
 },
 "nbformat": 4,
 "nbformat_minor": 5
}
